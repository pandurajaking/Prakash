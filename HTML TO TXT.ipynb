{
  "cells": [
    {
      "cell_type": "markdown",
      "metadata": {
        "id": "view-in-github",
        "colab_type": "text"
      },
      "source": [
        "<a href=\"https://colab.research.google.com/github/Prakash-Baraiya/Prakash/blob/main/HTML%20TO%20TXT.ipynb\" target=\"_parent\"><img src=\"https://colab.research.google.com/assets/colab-badge.svg\" alt=\"Open In Colab\"/></a>"
      ]
    },
    {
      "cell_type": "code",
      "execution_count": null,
      "metadata": {
        "cellView": "form",
        "id": "EBqWM-x61KSn"
      },
      "outputs": [],
      "source": [
        "#@title <<----<strong> Auto Reconnect\n",
        "%%capture\n",
        "import IPython\n",
        "from google.colab import output\n",
        "\n",
        "display(IPython.display.Javascript('''\n",
        "function ClickConnect(){\n",
        "  btn = document.querySelector(\"colab-connect-button\")\n",
        "  if (btn != null){\n",
        "    console.log(\"Click colab-connect-button\");\n",
        "    btn.click()\n",
        "    }\n",
        "\n",
        "  btn = document.getElementById('ok')\n",
        "  if (btn != null){\n",
        "    console.log(\"Click reconnect\");\n",
        "    btn.click()\n",
        "    }\n",
        "  }\n",
        "\n",
        "setInterval(ClickConnect,60000)\n",
        "'''))"
      ]
    },
    {
      "cell_type": "code",
      "execution_count": 1,
      "metadata": {
        "colab": {
          "base_uri": "https://localhost:8080/"
        },
        "id": "G7-1QZEdQXCT",
        "outputId": "b12aca4a-3940-40a8-8652-fe6d0e0a9697"
      },
      "outputs": [
        {
          "output_type": "stream",
          "name": "stdout",
          "text": [
            "Cloning into 'Html-to-txt-'...\n",
            "remote: Enumerating objects: 281, done.\u001b[K\n",
            "remote: Counting objects: 100% (151/151), done.\u001b[K\n",
            "remote: Compressing objects: 100% (114/114), done.\u001b[K\n",
            "remote: Total 281 (delta 44), reused 128 (delta 37), pack-reused 130\u001b[K\n",
            "Receiving objects: 100% (281/281), 83.74 KiB | 3.49 MiB/s, done.\n",
            "Resolving deltas: 100% (69/69), done.\n",
            "/content/Html-to-txt-\n"
          ]
        }
      ],
      "source": [
        "\n",
        "!git clone https://github.com/Prakash-Baraiya/Html-to-txt-\n",
        "%cd Html-to-txt-"
      ]
    },
    {
      "cell_type": "code",
      "execution_count": 2,
      "metadata": {
        "colab": {
          "base_uri": "https://localhost:8080/"
        },
        "id": "UQhZ5LqSRIA2",
        "outputId": "0e27420d-0f12-4c32-abbe-dee1eccc7470"
      },
      "outputs": [
        {
          "output_type": "stream",
          "name": "stdout",
          "text": [
            "Requirement already satisfied: pip in /usr/local/lib/python3.10/dist-packages (23.1.2)\n",
            "Collecting pip\n",
            "  Downloading pip-23.2.1-py3-none-any.whl (2.1 MB)\n",
            "\u001b[2K     \u001b[90m━━━━━━━━━━━━━━━━━━━━━━━━━━━━━━━━━━━━━━━━\u001b[0m \u001b[32m2.1/2.1 MB\u001b[0m \u001b[31m8.3 MB/s\u001b[0m eta \u001b[36m0:00:00\u001b[0m\n",
            "\u001b[?25hInstalling collected packages: pip\n",
            "  Attempting uninstall: pip\n",
            "    Found existing installation: pip 23.1.2\n",
            "    Uninstalling pip-23.1.2:\n",
            "      Successfully uninstalled pip-23.1.2\n",
            "Successfully installed pip-23.2.1\n",
            "Collecting bs4 (from -r ./requirements.txt (line 1))\n",
            "  Downloading bs4-0.0.1.tar.gz (1.1 kB)\n",
            "  Preparing metadata (setup.py) ... \u001b[?25l\u001b[?25hdone\n",
            "Collecting python-telegram-bot==13.7 (from -r ./requirements.txt (line 2))\n",
            "  Downloading python_telegram_bot-13.7-py3-none-any.whl (490 kB)\n",
            "\u001b[2K     \u001b[90m━━━━━━━━━━━━━━━━━━━━━━━━━━━━━━━━━━━━━━━\u001b[0m \u001b[32m490.1/490.1 kB\u001b[0m \u001b[31m5.7 MB/s\u001b[0m eta \u001b[36m0:00:00\u001b[0m\n",
            "\u001b[?25hCollecting beautifulsoup4==4.10.0 (from -r ./requirements.txt (line 3))\n",
            "  Downloading beautifulsoup4-4.10.0-py3-none-any.whl (97 kB)\n",
            "\u001b[2K     \u001b[90m━━━━━━━━━━━━━━━━━━━━━━━━━━━━━━━━━━━━━━━━\u001b[0m \u001b[32m97.4/97.4 kB\u001b[0m \u001b[31m11.9 MB/s\u001b[0m eta \u001b[36m0:00:00\u001b[0m\n",
            "\u001b[?25hRequirement already satisfied: certifi in /usr/local/lib/python3.10/dist-packages (from python-telegram-bot==13.7->-r ./requirements.txt (line 2)) (2023.7.22)\n",
            "Requirement already satisfied: tornado>=6.1 in /usr/local/lib/python3.10/dist-packages (from python-telegram-bot==13.7->-r ./requirements.txt (line 2)) (6.3.2)\n",
            "Collecting APScheduler==3.6.3 (from python-telegram-bot==13.7->-r ./requirements.txt (line 2))\n",
            "  Downloading APScheduler-3.6.3-py2.py3-none-any.whl (58 kB)\n",
            "\u001b[2K     \u001b[90m━━━━━━━━━━━━━━━━━━━━━━━━━━━━━━━━━━━━━━━━\u001b[0m \u001b[32m58.9/58.9 kB\u001b[0m \u001b[31m6.2 MB/s\u001b[0m eta \u001b[36m0:00:00\u001b[0m\n",
            "\u001b[?25hRequirement already satisfied: pytz>=2018.6 in /usr/local/lib/python3.10/dist-packages (from python-telegram-bot==13.7->-r ./requirements.txt (line 2)) (2023.3)\n",
            "Collecting cachetools==4.2.2 (from python-telegram-bot==13.7->-r ./requirements.txt (line 2))\n",
            "  Downloading cachetools-4.2.2-py3-none-any.whl (11 kB)\n",
            "Requirement already satisfied: soupsieve>1.2 in /usr/local/lib/python3.10/dist-packages (from beautifulsoup4==4.10.0->-r ./requirements.txt (line 3)) (2.4.1)\n",
            "Requirement already satisfied: setuptools>=0.7 in /usr/local/lib/python3.10/dist-packages (from APScheduler==3.6.3->python-telegram-bot==13.7->-r ./requirements.txt (line 2)) (67.7.2)\n",
            "Requirement already satisfied: six>=1.4.0 in /usr/local/lib/python3.10/dist-packages (from APScheduler==3.6.3->python-telegram-bot==13.7->-r ./requirements.txt (line 2)) (1.16.0)\n",
            "Requirement already satisfied: tzlocal>=1.2 in /usr/local/lib/python3.10/dist-packages (from APScheduler==3.6.3->python-telegram-bot==13.7->-r ./requirements.txt (line 2)) (5.0.1)\n",
            "Building wheels for collected packages: bs4\n",
            "  Building wheel for bs4 (setup.py) ... \u001b[?25l\u001b[?25hdone\n",
            "  Created wheel for bs4: filename=bs4-0.0.1-py3-none-any.whl size=1256 sha256=02c503ad41139204066ef623eaa1d596d453e3af8c07ef90a1a81c8b1cb04c32\n",
            "  Stored in directory: /root/.cache/pip/wheels/25/42/45/b773edc52acb16cd2db4cf1a0b47117e2f69bb4eb300ed0e70\n",
            "Successfully built bs4\n",
            "Installing collected packages: cachetools, beautifulsoup4, APScheduler, python-telegram-bot, bs4\n",
            "  Attempting uninstall: cachetools\n",
            "    Found existing installation: cachetools 5.3.1\n",
            "    Uninstalling cachetools-5.3.1:\n",
            "      Successfully uninstalled cachetools-5.3.1\n",
            "  Attempting uninstall: beautifulsoup4\n",
            "    Found existing installation: beautifulsoup4 4.11.2\n",
            "    Uninstalling beautifulsoup4-4.11.2:\n",
            "      Successfully uninstalled beautifulsoup4-4.11.2\n",
            "\u001b[31mERROR: pip's dependency resolver does not currently take into account all the packages that are installed. This behaviour is the source of the following dependency conflicts.\n",
            "yfinance 0.2.28 requires beautifulsoup4>=4.11.1, but you have beautifulsoup4 4.10.0 which is incompatible.\u001b[0m\u001b[31m\n",
            "\u001b[0mSuccessfully installed APScheduler-3.6.3 beautifulsoup4-4.10.0 bs4-0.0.1 cachetools-4.2.2 python-telegram-bot-13.7\n",
            "\u001b[33mWARNING: Running pip as the 'root' user can result in broken permissions and conflicting behaviour with the system package manager. It is recommended to use a virtual environment instead: https://pip.pypa.io/warnings/venv\u001b[0m\u001b[33m\n",
            "\u001b[0m"
          ]
        }
      ],
      "source": [
        "!pip3 install -U pip\n",
        "!pip3 install -r ./requirements.txt"
      ]
    },
    {
      "cell_type": "code",
      "execution_count": null,
      "metadata": {
        "colab": {
          "base_uri": "https://localhost:8080/"
        },
        "id": "Owqe0tPxUJbM",
        "outputId": "231701fa-8222-45be-f596-2d2a553c2c06"
      },
      "outputs": [
        {
          "output_type": "stream",
          "name": "stdout",
          "text": [
            "env: API_ID=20717621\n",
            "env: API_HASH=a68af155e7f0c79b1baab1f185f4181d\n",
            "env: BOT_TOKEN=6488165968:AAFyogItsIQm2VEsk_GWRsZAXf3ZNij-t6s\n",
            "env: AUTH_USERS=5934830127,1085174050\n",
            "env: GROUPS=-1001663303433\n",
            "env: JSON_GROUPS=-1001663303433\n"
          ]
        }
      ],
      "source": [
        "%env API_ID=20717621\n",
        "# Get from https://my.telegram.org/apps\n",
        "%env API_HASH=a68af155e7f0c79b1baab1f185f4181d\n",
        "# Get from https://my.telegram.org/apps\n",
        "%env BOT_TOKEN= 6488165968:AAFyogItsIQm2VEsk_GWRsZAXf3ZNij-t6s\n",
        "# Get from https://t.me/BotFather\n",
        "%env AUTH_USERS=5934830127,1085174050\n",
        "# User ids of those who can use bot anywhere without limit\n",
        "%env GROUPS=-1001663303433\n",
        "# Chat ids where you wan't many to use the bot\n",
        "%env JSON_GROUPS=-1001663303433\n",
        "# Chat ids where you wan't many to use the bot to download from jsons"
      ]
    },
    {
      "cell_type": "code",
      "execution_count": null,
      "metadata": {
        "id": "k2ARB3FQQyI-",
        "outputId": "48580bfd-27e8-459a-f1a8-1d995e109bd5",
        "colab": {
          "base_uri": "https://localhost:8080/"
        }
      },
      "outputs": [
        {
          "metadata": {
            "tags": null
          },
          "name": "stdout",
          "output_type": "stream",
          "text": [
            "Connection pool of Request object is smaller than optimal value (8)\n"
          ]
        }
      ],
      "source": [
        "!python3 bot.py"
      ]
    }
  ],
  "metadata": {
    "colab": {
      "provenance": [],
      "include_colab_link": true
    },
    "kernelspec": {
      "display_name": "Python 3",
      "name": "python3"
    },
    "language_info": {
      "name": "python"
    }
  },
  "nbformat": 4,
  "nbformat_minor": 0
}