{
  "cells": [
    {
      "cell_type": "markdown",
      "metadata": {
        "id": "view-in-github",
        "colab_type": "text"
      },
      "source": [
        "<a href=\"https://colab.research.google.com/github/Prakash-Baraiya/Prakash/blob/main/Copy_of_VideoDownloaderBot_ADR_Final.ipynb\" target=\"_parent\"><img src=\"https://colab.research.google.com/assets/colab-badge.svg\" alt=\"Open In Colab\"/></a>"
      ]
    },
    {
      "cell_type": "code",
      "execution_count": 1,
      "metadata": {
        "cellView": "form",
        "id": "EBqWM-x61KSn"
      },
      "outputs": [],
      "source": [
        "#@title <<----<strong> Auto Reconnect\n",
        "%%capture\n",
        "import IPython\n",
        "from google.colab import output\n",
        "\n",
        "display(IPython.display.Javascript('''\n",
        "function ClickConnect(){\n",
        "  btn = document.querySelector(\"colab-connect-button\")\n",
        "  if (btn != null){\n",
        "    console.log(\"Click colab-connect-button\");\n",
        "    btn.click()\n",
        "    }\n",
        "\n",
        "  btn = document.getElementById('ok')\n",
        "  if (btn != null){\n",
        "    console.log(\"Click reconnect\");\n",
        "    btn.click()\n",
        "    }\n",
        "  }\n",
        "\n",
        "setInterval(ClickConnect,60000)\n",
        "'''))"
      ]
    },
    {
      "cell_type": "code",
      "execution_count": 14,
      "metadata": {
        "colab": {
          "base_uri": "https://localhost:8080/"
        },
        "id": "G7-1QZEdQXCT",
        "outputId": "650d8f09-6e08-4246-fd45-09ee4218d811"
      },
      "outputs": [
        {
          "output_type": "stream",
          "name": "stdout",
          "text": [
            "Reading package lists... Done\n",
            "Building dependency tree... Done\n",
            "Reading state information... Done\n",
            "aria2 is already the newest version (1.36.0-1).\n",
            "ffmpeg is already the newest version (7:4.4.2-0ubuntu0.22.04.1).\n",
            "0 upgraded, 0 newly installed, 0 to remove and 8 not upgraded.\n",
            "Cloning into 'Prakash'...\n",
            "remote: Enumerating objects: 235, done.\u001b[K\n",
            "remote: Counting objects: 100% (235/235), done.\u001b[K\n",
            "remote: Compressing objects: 100% (151/151), done.\u001b[K\n",
            "remote: Total 235 (delta 105), reused 176 (delta 69), pack-reused 0\u001b[K\n",
            "Receiving objects: 100% (235/235), 138.32 KiB | 1.36 MiB/s, done.\n",
            "Resolving deltas: 100% (105/105), done.\n",
            "/content/Prakash/Prakash/Prakash/Prakash\n"
          ]
        }
      ],
      "source": [
        "!apt install ffmpeg aria2\n",
        "!git clone https://github.com/Prakash-Baraiya/Prakash\n",
        "%cd Prakash"
      ]
    },
    {
      "cell_type": "code",
      "execution_count": 15,
      "metadata": {
        "colab": {
          "base_uri": "https://localhost:8080/"
        },
        "id": "UQhZ5LqSRIA2",
        "outputId": "49c32c5c-46da-44e1-e7b4-9e66dea749e4"
      },
      "outputs": [
        {
          "output_type": "stream",
          "name": "stdout",
          "text": [
            "Requirement already satisfied: pip in /usr/local/lib/python3.10/dist-packages (23.2.1)\n",
            "\u001b[33mWARNING: Running pip as the 'root' user can result in broken permissions and conflicting behaviour with the system package manager. It is recommended to use a virtual environment instead: https://pip.pypa.io/warnings/venv\u001b[0m\u001b[33m\n",
            "\u001b[0mRequirement already satisfied: pyrogram==1.4.16 in /usr/local/lib/python3.10/dist-packages (from -r ./requirements.txt (line 1)) (1.4.16)\n",
            "Requirement already satisfied: tgcrypto in /usr/local/lib/python3.10/dist-packages (from -r ./requirements.txt (line 2)) (1.2.5)\n",
            "Requirement already satisfied: requests in /usr/local/lib/python3.10/dist-packages (from -r ./requirements.txt (line 3)) (2.27.1)\n",
            "Requirement already satisfied: pyromod==1.5 in /usr/local/lib/python3.10/dist-packages (from -r ./requirements.txt (line 4)) (1.5)\n",
            "Requirement already satisfied: yt-dlp in /usr/local/lib/python3.10/dist-packages (from -r ./requirements.txt (line 5)) (2023.7.6)\n",
            "Requirement already satisfied: ffmpeg in /usr/local/lib/python3.10/dist-packages (from -r ./requirements.txt (line 6)) (1.4)\n",
            "Requirement already satisfied: aiohttp in /usr/local/lib/python3.10/dist-packages (from -r ./requirements.txt (line 7)) (3.8.4)\n",
            "Requirement already satisfied: aiofiles in /usr/local/lib/python3.10/dist-packages (from -r ./requirements.txt (line 8)) (23.1.0)\n",
            "Requirement already satisfied: asyncio in /usr/local/lib/python3.10/dist-packages (from -r ./requirements.txt (line 9)) (3.4.3)\n",
            "Requirement already satisfied: pycurl in /usr/local/lib/python3.10/dist-packages (from -r ./requirements.txt (line 10)) (7.45.2)\n",
            "Requirement already satisfied: humanize in /usr/local/lib/python3.10/dist-packages (from -r ./requirements.txt (line 11)) (4.6.0)\n",
            "Requirement already satisfied: cryptg in /usr/local/lib/python3.10/dist-packages (from -r ./requirements.txt (line 13)) (0.4.0)\n",
            "Requirement already satisfied: telethon in /usr/local/lib/python3.10/dist-packages (from -r ./requirements.txt (line 14)) (1.29.2)\n",
            "Requirement already satisfied: python-decouple in /usr/local/lib/python3.10/dist-packages (from -r ./requirements.txt (line 15)) (3.8)\n",
            "Requirement already satisfied: hachoir in /usr/local/lib/python3.10/dist-packages (from -r ./requirements.txt (line 16)) (3.2.0)\n",
            "Requirement already satisfied: pyaes==1.6.1 in /usr/local/lib/python3.10/dist-packages (from pyrogram==1.4.16->-r ./requirements.txt (line 1)) (1.6.1)\n",
            "Requirement already satisfied: pysocks==1.7.1 in /usr/local/lib/python3.10/dist-packages (from pyrogram==1.4.16->-r ./requirements.txt (line 1)) (1.7.1)\n",
            "Requirement already satisfied: urllib3<1.27,>=1.21.1 in /usr/local/lib/python3.10/dist-packages (from requests->-r ./requirements.txt (line 3)) (1.26.16)\n",
            "Requirement already satisfied: certifi>=2017.4.17 in /usr/local/lib/python3.10/dist-packages (from requests->-r ./requirements.txt (line 3)) (2023.5.7)\n",
            "Requirement already satisfied: charset-normalizer~=2.0.0 in /usr/local/lib/python3.10/dist-packages (from requests->-r ./requirements.txt (line 3)) (2.0.12)\n",
            "Requirement already satisfied: idna<4,>=2.5 in /usr/local/lib/python3.10/dist-packages (from requests->-r ./requirements.txt (line 3)) (3.4)\n",
            "Requirement already satisfied: mutagen in /usr/local/lib/python3.10/dist-packages (from yt-dlp->-r ./requirements.txt (line 5)) (1.46.0)\n",
            "Requirement already satisfied: pycryptodomex in /usr/local/lib/python3.10/dist-packages (from yt-dlp->-r ./requirements.txt (line 5)) (3.18.0)\n",
            "Requirement already satisfied: websockets in /usr/local/lib/python3.10/dist-packages (from yt-dlp->-r ./requirements.txt (line 5)) (11.0.3)\n",
            "Requirement already satisfied: brotli in /usr/local/lib/python3.10/dist-packages (from yt-dlp->-r ./requirements.txt (line 5)) (1.0.9)\n",
            "Requirement already satisfied: attrs>=17.3.0 in /usr/local/lib/python3.10/dist-packages (from aiohttp->-r ./requirements.txt (line 7)) (23.1.0)\n",
            "Requirement already satisfied: multidict<7.0,>=4.5 in /usr/local/lib/python3.10/dist-packages (from aiohttp->-r ./requirements.txt (line 7)) (6.0.4)\n",
            "Requirement already satisfied: async-timeout<5.0,>=4.0.0a3 in /usr/local/lib/python3.10/dist-packages (from aiohttp->-r ./requirements.txt (line 7)) (4.0.2)\n",
            "Requirement already satisfied: yarl<2.0,>=1.0 in /usr/local/lib/python3.10/dist-packages (from aiohttp->-r ./requirements.txt (line 7)) (1.9.2)\n",
            "Requirement already satisfied: frozenlist>=1.1.1 in /usr/local/lib/python3.10/dist-packages (from aiohttp->-r ./requirements.txt (line 7)) (1.4.0)\n",
            "Requirement already satisfied: aiosignal>=1.1.2 in /usr/local/lib/python3.10/dist-packages (from aiohttp->-r ./requirements.txt (line 7)) (1.3.1)\n",
            "Requirement already satisfied: rsa in /usr/local/lib/python3.10/dist-packages (from telethon->-r ./requirements.txt (line 14)) (4.9)\n",
            "Requirement already satisfied: pyasn1>=0.1.3 in /usr/local/lib/python3.10/dist-packages (from rsa->telethon->-r ./requirements.txt (line 14)) (0.5.0)\n",
            "\u001b[33mWARNING: Running pip as the 'root' user can result in broken permissions and conflicting behaviour with the system package manager. It is recommended to use a virtual environment instead: https://pip.pypa.io/warnings/venv\u001b[0m\u001b[33m\n",
            "\u001b[0m"
          ]
        }
      ],
      "source": [
        "!pip3 install -U pip\n",
        "!pip3 install -r ./requirements.txt"
      ]
    },
    {
      "cell_type": "code",
      "execution_count": 16,
      "metadata": {
        "colab": {
          "base_uri": "https://localhost:8080/"
        },
        "id": "Owqe0tPxUJbM",
        "outputId": "c4984205-8072-4611-deb3-628d48cb67c9"
      },
      "outputs": [
        {
          "output_type": "stream",
          "name": "stdout",
          "text": [
            "env: API_ID=20717621\n",
            "env: API_HASH=a68af155e7f0c79b1baab1f185f4181d\n",
            "env: BOT_TOKEN=6363733728:AAEOzTReSElnH1drJnv2_6UrhJ-h9A4PuLA\n",
            "env: AUTH_USERS=5934830127,1085174050\n",
            "env: GROUPS=-1001663303433\n",
            "env: JSON_GROUPS=-1001663303433\n"
          ]
        }
      ],
      "source": [
        "%env API_ID=20717621\n",
        "# Get from https://my.telegram.org/apps\n",
        "%env API_HASH=a68af155e7f0c79b1baab1f185f4181d\n",
        "# Get from https://my.telegram.org/apps\n",
        "%env BOT_TOKEN= 6363733728:AAEOzTReSElnH1drJnv2_6UrhJ-h9A4PuLA\n",
        "# Get from https://t.me/BotFather\n",
        "%env AUTH_USERS=5934830127,1085174050\n",
        "# User ids of those who can use bot anywhere without limit\n",
        "%env GROUPS=-1001663303433\n",
        "# Chat ids where you wan't many to use the bot\n",
        "%env JSON_GROUPS=-1001663303433\n",
        "# Chat ids where you wan't many to use the bot to download from jsons"
      ]
    },
    {
      "cell_type": "code",
      "execution_count": null,
      "metadata": {
        "colab": {
          "base_uri": "https://localhost:8080/"
        },
        "id": "k2ARB3FQQyI-",
        "outputId": "521e4929-bf52-4cdc-9cf3-d4fd058da69b"
      },
      "outputs": [
        {
          "output_type": "stream",
          "name": "stdout",
          "text": [
            "25-Jul-23 06:26:29 - INFO - 2333 [main.py:159]\n",
            "['yt-dlp -F \"https://videos.classplusapp.com/5e1c0f40d16671ed87445401b1ea0102/d193ea2f98ec4822bb72a627127503a9.m3u8\"' exited with 1]\n",
            "25-Jul-23 06:26:44 - ERROR - local variable 'ytf' referenced before assignment [main.py:468]\n",
            "25-Jul-23 06:27:09 - DEBUG - Starting new HTTPS connection (1): api.classplusapp.com:443 [connectionpool.py:1014]\n",
            "25-Jul-23 06:27:10 - DEBUG - https://api.classplusapp.com:443 \"GET /cams/uploader/video/jw-signed-url?url=https%3A%2F%2Fvideos.classplusapp.com%2F5e1c0f40d16671ed87445401b1ea0102%2Fd193ea2f98ec4822bb72a627127503a9.m3u8 HTTP/1.1\" 200 211 [connectionpool.py:473]\n",
            "[generic] Extracting URL: https://videoscdn.classplusapp.com/5e1c0f40d16671ed87445401b1ea0102/d193ea2f98ec4822bb72a62712750...ad70de&pass=38369212\n",
            "[generic] d193ea2f98ec4822bb72a627127503a9: Downloading webpage\n",
            "\u001b[0;33mWARNING:\u001b[0m [generic] Falling back on generic information extractor\n",
            "[generic] d193ea2f98ec4822bb72a627127503a9: Downloading m3u8 information\n",
            "[generic] d193ea2f98ec4822bb72a627127503a9: Checking m3u8 live status\n",
            "[info] d193ea2f98ec4822bb72a627127503a9: Downloading 1 format(s): 1500\n",
            "[hlsnative] Downloading m3u8 manifest\n",
            "[hlsnative] Fragment downloads will be delegated to aria2c\n",
            "[hlsnative] Total fragments: 747\n",
            "[download] Destination: 354) 1.mp4\n",
            "\u001b[K[download] 100% of  535.76MiB in \u001b[1;37m00:00:23\u001b[0m at \u001b[0;32m23.06MiB/s\u001b[0m\n",
            "[VideoRemuxer] Remuxing video from mp4 to mkv; Destination: 354) 1.mkv\n",
            "Deleting original file 354) 1.mp4 (pass -k to keep)\n",
            "ffmpeg version 4.4.2-0ubuntu0.22.04.1 Copyright (c) 2000-2021 the FFmpeg developers\n",
            "  built with gcc 11 (Ubuntu 11.2.0-19ubuntu1)\n",
            "  configuration: --prefix=/usr --extra-version=0ubuntu0.22.04.1 --toolchain=hardened --libdir=/usr/lib/x86_64-linux-gnu --incdir=/usr/include/x86_64-linux-gnu --arch=amd64 --enable-gpl --disable-stripping --enable-gnutls --enable-ladspa --enable-libaom --enable-libass --enable-libbluray --enable-libbs2b --enable-libcaca --enable-libcdio --enable-libcodec2 --enable-libdav1d --enable-libflite --enable-libfontconfig --enable-libfreetype --enable-libfribidi --enable-libgme --enable-libgsm --enable-libjack --enable-libmp3lame --enable-libmysofa --enable-libopenjpeg --enable-libopenmpt --enable-libopus --enable-libpulse --enable-librabbitmq --enable-librubberband --enable-libshine --enable-libsnappy --enable-libsoxr --enable-libspeex --enable-libsrt --enable-libssh --enable-libtheora --enable-libtwolame --enable-libvidstab --enable-libvorbis --enable-libvpx --enable-libwebp --enable-libx265 --enable-libxml2 --enable-libxvid --enable-libzimg --enable-libzmq --enable-libzvbi --enable-lv2 --enable-omx --enable-openal --enable-opencl --enable-opengl --enable-sdl2 --enable-pocketsphinx --enable-librsvg --enable-libmfx --enable-libdc1394 --enable-libdrm --enable-libiec61883 --enable-chromaprint --enable-frei0r --enable-libx264 --enable-shared\n",
            "  libavutil      56. 70.100 / 56. 70.100\n",
            "  libavcodec     58.134.100 / 58.134.100\n",
            "  libavformat    58. 76.100 / 58. 76.100\n",
            "  libavdevice    58. 13.100 / 58. 13.100\n",
            "  libavfilter     7.110.100 /  7.110.100\n",
            "  libswscale      5.  9.100 /  5.  9.100\n",
            "  libswresample   3.  9.100 /  3.  9.100\n",
            "  libpostproc    55.  9.100 / 55.  9.100\n",
            "Input #0, matroska,webm, from '354) 1.mkv':\n",
            "  Metadata:\n",
            "    ENCODER         : Lavf58.76.100\n",
            "  Duration: 00:49:44.37, start: 0.000000, bitrate: 1370 kb/s\n",
            "  Stream #0:0: Video: h264 (High), yuv420p(tv, bt709, progressive), 1280x720 [SAR 1:1 DAR 16:9], 25 fps, 25 tbr, 1k tbn, 50 tbc (default)\n",
            "    Metadata:\n",
            "      DURATION        : 00:49:44.326000000\n",
            "  Stream #0:1: Audio: aac (LC), 44100 Hz, stereo, fltp (default)\n",
            "    Metadata:\n",
            "      DURATION        : 00:49:44.368000000\n",
            "Stream mapping:\n",
            "  Stream #0:0 -> #0:0 (h264 (native) -> mjpeg (native))\n",
            "Press [q] to stop, [?] for help\n",
            "\u001b[1;34m[swscaler @ 0x55be566c4100] \u001b[0m\u001b[0;33mdeprecated pixel format used, make sure you did set range correctly\n",
            "\u001b[0mOutput #0, image2, to '354) 1.mkv.jpg':\n",
            "  Metadata:\n",
            "    encoder         : Lavf58.76.100\n",
            "  Stream #0:0: Video: mjpeg, yuvj420p(pc, bt709, progressive), 1280x720 [SAR 1:1 DAR 16:9], q=2-31, 200 kb/s, 25 fps, 25 tbn (default)\n",
            "    Metadata:\n",
            "      DURATION        : 00:49:44.326000000\n",
            "      encoder         : Lavc58.134.100 mjpeg\n",
            "    Side data:\n",
            "      cpb: bitrate max/min/avg: 0/0/200000 buffer size: 0 vbv_delay: N/A\n",
            "frame=    1 fps=0.1 q=7.7 Lsize=N/A time=00:00:00.04 bitrate=N/A speed=0.00389x    \n",
            "video:52kB audio:0kB subtitle:0kB other streams:0kB global headers:0kB muxing overhead: unknown\n",
            "[generic] Extracting URL: https://cdn-wl-assets.classplus.co/production/single/qlqbt/5cb4a758-9cf5-431b-b908-6a46ee5995d4.pdf\n",
            "[generic] 5cb4a758-9cf5-431b-b908-6a46ee5995d4: Downloading webpage\n",
            "\u001b[0;33mWARNING:\u001b[0m [generic] Falling back on generic information extractor\n",
            "\u001b[0;33mWARNING:\u001b[0m [generic] URL could be a direct video link, returning it as such.\n",
            "[info] 5cb4a758-9cf5-431b-b908-6a46ee5995d4: Downloading 1 format(s): 0\n",
            "[download] Destination: 355) Phrasal Verb - fixed preposition.pdf\n",
            "\u001b[K[download] 100% of    9.60MiB in \u001b[1;37m00:00:00\u001b[0m at \u001b[0;32m29.94MiB/s\u001b[0m\n",
            "ffmpeg version 4.4.2-0ubuntu0.22.04.1 Copyright (c) 2000-2021 the FFmpeg developers\n",
            "  built with gcc 11 (Ubuntu 11.2.0-19ubuntu1)\n",
            "  configuration: --prefix=/usr --extra-version=0ubuntu0.22.04.1 --toolchain=hardened --libdir=/usr/lib/x86_64-linux-gnu --incdir=/usr/include/x86_64-linux-gnu --arch=amd64 --enable-gpl --disable-stripping --enable-gnutls --enable-ladspa --enable-libaom --enable-libass --enable-libbluray --enable-libbs2b --enable-libcaca --enable-libcdio --enable-libcodec2 --enable-libdav1d --enable-libflite --enable-libfontconfig --enable-libfreetype --enable-libfribidi --enable-libgme --enable-libgsm --enable-libjack --enable-libmp3lame --enable-libmysofa --enable-libopenjpeg --enable-libopenmpt --enable-libopus --enable-libpulse --enable-librabbitmq --enable-librubberband --enable-libshine --enable-libsnappy --enable-libsoxr --enable-libspeex --enable-libsrt --enable-libssh --enable-libtheora --enable-libtwolame --enable-libvidstab --enable-libvorbis --enable-libvpx --enable-libwebp --enable-libx265 --enable-libxml2 --enable-libxvid --enable-libzimg --enable-libzmq --enable-libzvbi --enable-lv2 --enable-omx --enable-openal --enable-opencl --enable-opengl --enable-sdl2 --enable-pocketsphinx --enable-librsvg --enable-libmfx --enable-libdc1394 --enable-libdrm --enable-libiec61883 --enable-chromaprint --enable-frei0r --enable-libx264 --enable-shared\n",
            "  libavutil      56. 70.100 / 56. 70.100\n",
            "  libavcodec     58.134.100 / 58.134.100\n",
            "  libavformat    58. 76.100 / 58. 76.100\n",
            "  libavdevice    58. 13.100 / 58. 13.100\n",
            "  libavfilter     7.110.100 /  7.110.100\n",
            "  libswscale      5.  9.100 /  5.  9.100\n",
            "  libswresample   3.  9.100 /  3.  9.100\n",
            "  libpostproc    55.  9.100 / 55.  9.100\n",
            "\u001b[1;31m355) Phrasal Verb - fixed preposition.pdf: Invalid data found when processing input\n",
            "\u001b[0m"
          ]
        }
      ],
      "source": [
        "!python3 main.py"
      ]
    }
  ],
  "metadata": {
    "accelerator": "GPU",
    "colab": {
      "provenance": [],
      "include_colab_link": true
    },
    "kernelspec": {
      "display_name": "Python 3",
      "name": "python3"
    },
    "language_info": {
      "name": "python"
    }
  },
  "nbformat": 4,
  "nbformat_minor": 0
}