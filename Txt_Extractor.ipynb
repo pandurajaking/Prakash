{
  "nbformat": 4,
  "nbformat_minor": 0,
  "metadata": {
    "colab": {
      "provenance": [],
      "include_colab_link": true
    },
    "kernelspec": {
      "display_name": "Python 3",
      "name": "python3"
    },
    "language_info": {
      "name": "python"
    }
  },
  "cells": [
    {
      "cell_type": "markdown",
      "metadata": {
        "id": "view-in-github",
        "colab_type": "text"
      },
      "source": [
        "<a href=\"https://colab.research.google.com/github/Prakash-Baraiya/Prakash/blob/main/Txt_Extractor.ipynb\" target=\"_parent\"><img src=\"https://colab.research.google.com/assets/colab-badge.svg\" alt=\"Open In Colab\"/></a>"
      ]
    },
    {
      "cell_type": "code",
      "metadata": {
        "cellView": "form",
        "id": "EBqWM-x61KSn"
      },
      "source": [
        "#@title <<----<strong> Auto Reconnect\n",
        "%%capture\n",
        "import IPython\n",
        "from google.colab import output\n",
        "\n",
        "display(IPython.display.Javascript('''\n",
        "function ClickConnect(){\n",
        "  btn = document.querySelector(\"colab-connect-button\")\n",
        "  if (btn != null){\n",
        "    console.log(\"Click colab-connect-button\");\n",
        "    btn.click()\n",
        "    }\n",
        "\n",
        "  btn = document.getElementById('ok')\n",
        "  if (btn != null){\n",
        "    console.log(\"Click reconnect\");\n",
        "    btn.click()\n",
        "    }\n",
        "  }\n",
        "\n",
        "setInterval(ClickConnect,60000)\n",
        "'''))"
      ],
      "execution_count": null,
      "outputs": []
    },
    {
      "cell_type": "code",
      "metadata": {
        "id": "G7-1QZEdQXCT",
        "outputId": "dfb088bb-a33e-4935-ebfb-bf865b6ce0a0",
        "colab": {
          "base_uri": "https://localhost:8080/"
        }
      },
      "source": [
        "!apt install ffmpeg aria2\n",
        "\n",
        "!git clone https://github.com/Prakash-Baraiya/all-in-work-final\n",
        "%cd all-in-work-final"
      ],
      "execution_count": null,
      "outputs": [
        {
          "output_type": "stream",
          "name": "stdout",
          "text": [
            "Reading package lists... Done\n",
            "Building dependency tree... Done\n",
            "Reading state information... Done\n",
            "aria2 is already the newest version (1.36.0-1).\n",
            "ffmpeg is already the newest version (7:4.4.2-0ubuntu0.22.04.1).\n",
            "0 upgraded, 0 newly installed, 0 to remove and 9 not upgraded.\n",
            "Cloning into 'all-in-work-final'...\n",
            "remote: Enumerating objects: 144, done.\u001b[K\n",
            "remote: Counting objects: 100% (144/144), done.\u001b[K\n",
            "remote: Compressing objects: 100% (103/103), done.\u001b[K\n",
            "remote: Total 144 (delta 67), reused 98 (delta 37), pack-reused 0\u001b[K\n",
            "Receiving objects: 100% (144/144), 136.77 KiB | 1.03 MiB/s, done.\n",
            "Resolving deltas: 100% (67/67), done.\n",
            "/content/all-in-work-final\n"
          ]
        }
      ]
    },
    {
      "cell_type": "code",
      "metadata": {
        "id": "UQhZ5LqSRIA2",
        "outputId": "4738d64b-ceca-4b93-dc08-bc96ef31cd3b",
        "colab": {
          "base_uri": "https://localhost:8080/",
          "height": 1000
        }
      },
      "source": [
        "!pip3 install -U pip\n",
        "!pip3 install -r ./requirements.txt"
      ],
      "execution_count": null,
      "outputs": [
        {
          "output_type": "stream",
          "name": "stdout",
          "text": [
            "Requirement already satisfied: pip in /usr/local/lib/python3.10/dist-packages (23.2.1)\n",
            "\u001b[33mWARNING: Running pip as the 'root' user can result in broken permissions and conflicting behaviour with the system package manager. It is recommended to use a virtual environment instead: https://pip.pypa.io/warnings/venv\u001b[0m\u001b[33m\n",
            "\u001b[0mCollecting pyrogram==1.4.16 (from -r ./requirements.txt (line 1))\n",
            "  Downloading Pyrogram-1.4.16-py3-none-any.whl (3.1 MB)\n",
            "\u001b[2K     \u001b[90m━━━━━━━━━━━━━━━━━━━━━━━━━━━━━━━━━━━━━━━━\u001b[0m \u001b[32m3.1/3.1 MB\u001b[0m \u001b[31m8.9 MB/s\u001b[0m eta \u001b[36m0:00:00\u001b[0m\n",
            "\u001b[?25hCollecting tgcrypto (from -r ./requirements.txt (line 2))\n",
            "  Downloading TgCrypto-1.2.5-cp310-cp310-manylinux_2_17_x86_64.manylinux2014_x86_64.whl (59 kB)\n",
            "\u001b[2K     \u001b[90m━━━━━━━━━━━━━━━━━━━━━━━━━━━━━━━━━━━━━━━━\u001b[0m \u001b[32m59.9/59.9 kB\u001b[0m \u001b[31m6.9 MB/s\u001b[0m eta \u001b[36m0:00:00\u001b[0m\n",
            "\u001b[?25hRequirement already satisfied: requests in /usr/local/lib/python3.10/dist-packages (from -r ./requirements.txt (line 3)) (2.27.1)\n",
            "Collecting pyromod==1.5 (from -r ./requirements.txt (line 4))\n",
            "  Downloading pyromod-1.5-py3-none-any.whl (28 kB)\n",
            "Collecting ffmpeg (from -r ./requirements.txt (line 5))\n",
            "  Downloading ffmpeg-1.4.tar.gz (5.1 kB)\n",
            "  Preparing metadata (setup.py) ... \u001b[?25l\u001b[?25hdone\n",
            "Collecting mediainfo (from -r ./requirements.txt (line 6))\n",
            "  Downloading MediaInfo-0.0.9.tar.gz (3.9 kB)\n",
            "  Preparing metadata (setup.py) ... \u001b[?25l\u001b[?25hdone\n",
            "Collecting cloudscraper (from -r ./requirements.txt (line 7))\n",
            "  Downloading cloudscraper-1.2.71-py2.py3-none-any.whl (99 kB)\n",
            "\u001b[2K     \u001b[90m━━━━━━━━━━━━━━━━━━━━━━━━━━━━━━━━━━━━━━━━\u001b[0m \u001b[32m99.7/99.7 kB\u001b[0m \u001b[31m13.6 MB/s\u001b[0m eta \u001b[36m0:00:00\u001b[0m\n",
            "\u001b[?25hCollecting beautifulsoup4==4.9.3 (from -r ./requirements.txt (line 8))\n",
            "  Downloading beautifulsoup4-4.9.3-py3-none-any.whl (115 kB)\n",
            "\u001b[2K     \u001b[90m━━━━━━━━━━━━━━━━━━━━━━━━━━━━━━━━━━━━━━\u001b[0m \u001b[32m115.8/115.8 kB\u001b[0m \u001b[31m15.4 MB/s\u001b[0m eta \u001b[36m0:00:00\u001b[0m\n",
            "\u001b[?25hCollecting bs4==0.0.1 (from -r ./requirements.txt (line 9))\n",
            "  Downloading bs4-0.0.1.tar.gz (1.1 kB)\n",
            "  Preparing metadata (setup.py) ... \u001b[?25l\u001b[?25hdone\n",
            "Requirement already satisfied: aiohttp in /usr/local/lib/python3.10/dist-packages (from -r ./requirements.txt (line 10)) (3.8.5)\n",
            "Collecting aiofiles (from -r ./requirements.txt (line 11))\n",
            "  Downloading aiofiles-23.1.0-py3-none-any.whl (14 kB)\n",
            "Collecting yt-dlp==2021.7.24 (from -r ./requirements.txt (line 12))\n",
            "  Downloading yt_dlp-2021.7.24-py2.py3-none-any.whl (2.1 MB)\n",
            "\u001b[2K     \u001b[90m━━━━━━━━━━━━━━━━━━━━━━━━━━━━━━━━━━━━━━━━\u001b[0m \u001b[32m2.1/2.1 MB\u001b[0m \u001b[31m12.2 MB/s\u001b[0m eta \u001b[36m0:00:00\u001b[0m\n",
            "\u001b[?25hCollecting pycryptodome==3.10.1 (from -r ./requirements.txt (line 13))\n",
            "  Downloading pycryptodome-3.10.1-cp35-abi3-manylinux2010_x86_64.whl (1.9 MB)\n",
            "\u001b[2K     \u001b[90m━━━━━━━━━━━━━━━━━━━━━━━━━━━━━━━━━━━━━━━━\u001b[0m \u001b[32m1.9/1.9 MB\u001b[0m \u001b[31m40.2 MB/s\u001b[0m eta \u001b[36m0:00:00\u001b[0m\n",
            "\u001b[?25hRequirement already satisfied: PySocks==1.7.1 in /usr/local/lib/python3.10/dist-packages (from -r ./requirements.txt (line 14)) (1.7.1)\n",
            "Collecting websockets==9.1 (from -r ./requirements.txt (line 15))\n",
            "  Downloading websockets-9.1.tar.gz (76 kB)\n",
            "\u001b[2K     \u001b[90m━━━━━━━━━━━━━━━━━━━━━━━━━━━━━━━━━━━━━━━━\u001b[0m \u001b[32m76.7/76.7 kB\u001b[0m \u001b[31m10.4 MB/s\u001b[0m eta \u001b[36m0:00:00\u001b[0m\n",
            "\u001b[?25h  Preparing metadata (setup.py) ... \u001b[?25l\u001b[?25hdone\n",
            "Requirement already satisfied: psutil in /usr/local/lib/python3.10/dist-packages (from -r ./requirements.txt (line 16)) (5.9.5)\n",
            "Collecting async-lru==1.0.2 (from -r ./requirements.txt (line 17))\n",
            "  Downloading async_lru-1.0.2.tar.gz (5.0 kB)\n",
            "  Preparing metadata (setup.py) ... \u001b[?25l\u001b[?25hdone\n",
            "Collecting helper (from -r ./requirements.txt (line 18))\n",
            "  Downloading helper-2.5.0.tar.gz (18 kB)\n",
            "  Preparing metadata (setup.py) ... \u001b[?25l\u001b[?25hdone\n",
            "Collecting pyaes==1.6.1 (from -r ./requirements.txt (line 19))\n",
            "  Downloading pyaes-1.6.1.tar.gz (28 kB)\n",
            "  Preparing metadata (setup.py) ... \u001b[?25l\u001b[?25hdone\n",
            "Collecting soupsieve==2.2.1 (from -r ./requirements.txt (line 20))\n",
            "  Downloading soupsieve-2.2.1-py3-none-any.whl (33 kB)\n",
            "Collecting py-tgcalls==0.6.0 (from -r ./requirements.txt (line 21))\n",
            "  Downloading py_tgcalls-0.6.0-py2.py3-none-any.whl (18.7 MB)\n",
            "\u001b[2K     \u001b[90m━━━━━━━━━━━━━━━━━━━━━━━━━━━━━━━━━━━━━━━━\u001b[0m \u001b[32m18.7/18.7 MB\u001b[0m \u001b[31m12.9 MB/s\u001b[0m eta \u001b[36m0:00:00\u001b[0m\n",
            "\u001b[?25hCollecting Brotli==1.0.9 (from -r ./requirements.txt (line 22))\n",
            "  Downloading Brotli-1.0.9-cp310-cp310-manylinux_2_5_x86_64.manylinux1_x86_64.manylinux_2_12_x86_64.manylinux2010_x86_64.whl (2.7 MB)\n",
            "\u001b[2K     \u001b[90m━━━━━━━━━━━━━━━━━━━━━━━━━━━━━━━━━━━━━━━━\u001b[0m \u001b[32m2.7/2.7 MB\u001b[0m \u001b[31m88.2 MB/s\u001b[0m eta \u001b[36m0:00:00\u001b[0m\n",
            "\u001b[?25hCollecting certifi==2022.12.7 (from -r ./requirements.txt (line 24))\n",
            "  Downloading certifi-2022.12.7-py3-none-any.whl (155 kB)\n",
            "\u001b[2K     \u001b[90m━━━━━━━━━━━━━━━━━━━━━━━━━━━━━━━━━━━━━━\u001b[0m \u001b[32m155.3/155.3 kB\u001b[0m \u001b[31m21.6 MB/s\u001b[0m eta \u001b[36m0:00:00\u001b[0m\n",
            "\u001b[?25hCollecting charset-normalizer==3.1.0 (from -r ./requirements.txt (line 26))\n",
            "  Downloading charset_normalizer-3.1.0-cp310-cp310-manylinux_2_17_x86_64.manylinux2014_x86_64.whl (199 kB)\n",
            "\u001b[2K     \u001b[90m━━━━━━━━━━━━━━━━━━━━━━━━━━━━━━━━━━━━━━\u001b[0m \u001b[32m199.3/199.3 kB\u001b[0m \u001b[31m25.0 MB/s\u001b[0m eta \u001b[36m0:00:00\u001b[0m\n",
            "\u001b[?25hCollecting cloudscraper (from -r ./requirements.txt (line 7))\n",
            "  Downloading cloudscraper-1.2.69-py2.py3-none-any.whl (99 kB)\n",
            "\u001b[2K     \u001b[90m━━━━━━━━━━━━━━━━━━━━━━━━━━━━━━━━━━━━━━━━\u001b[0m \u001b[32m99.7/99.7 kB\u001b[0m \u001b[31m13.0 MB/s\u001b[0m eta \u001b[36m0:00:00\u001b[0m\n",
            "\u001b[?25hRequirement already satisfied: idna==3.4 in /usr/local/lib/python3.10/dist-packages (from -r ./requirements.txt (line 30)) (3.4)\n",
            "Collecting pyparsing==3.0.9 (from -r ./requirements.txt (line 34))\n",
            "  Downloading pyparsing-3.0.9-py3-none-any.whl (98 kB)\n",
            "\u001b[2K     \u001b[90m━━━━━━━━━━━━━━━━━━━━━━━━━━━━━━━━━━━━━━━━\u001b[0m \u001b[32m98.3/98.3 kB\u001b[0m \u001b[31m12.6 MB/s\u001b[0m eta \u001b[36m0:00:00\u001b[0m\n",
            "\u001b[?25hCollecting python-dotenv==1.0.0 (from -r ./requirements.txt (line 38))\n",
            "  Downloading python_dotenv-1.0.0-py3-none-any.whl (19 kB)\n",
            "Collecting requests (from -r ./requirements.txt (line 3))\n",
            "  Downloading requests-2.28.2-py3-none-any.whl (62 kB)\n",
            "\u001b[2K     \u001b[90m━━━━━━━━━━━━━━━━━━━━━━━━━━━━━━━━━━━━━━━━\u001b[0m \u001b[32m62.8/62.8 kB\u001b[0m \u001b[31m8.8 MB/s\u001b[0m eta \u001b[36m0:00:00\u001b[0m\n",
            "\u001b[?25hCollecting requests-toolbelt==0.10.1 (from -r ./requirements.txt (line 42))\n",
            "  Downloading requests_toolbelt-0.10.1-py2.py3-none-any.whl (54 kB)\n",
            "\u001b[2K     \u001b[90m━━━━━━━━━━━━━━━━━━━━━━━━━━━━━━━━━━━━━━━━\u001b[0m \u001b[32m54.5/54.5 kB\u001b[0m \u001b[31m7.7 MB/s\u001b[0m eta \u001b[36m0:00:00\u001b[0m\n",
            "\u001b[?25hCollecting urllib3==1.26.15 (from -r ./requirements.txt (line 46))\n",
            "  Downloading urllib3-1.26.15-py2.py3-none-any.whl (140 kB)\n",
            "\u001b[2K     \u001b[90m━━━━━━━━━━━━━━━━━━━━━━━━━━━━━━━━━━━━━━\u001b[0m \u001b[32m140.9/140.9 kB\u001b[0m \u001b[31m18.2 MB/s\u001b[0m eta \u001b[36m0:00:00\u001b[0m\n",
            "\u001b[?25hCollecting mutagen (from yt-dlp==2021.7.24->-r ./requirements.txt (line 12))\n",
            "  Downloading mutagen-1.46.0-py3-none-any.whl (193 kB)\n",
            "\u001b[2K     \u001b[90m━━━━━━━━━━━━━━━━━━━━━━━━━━━━━━━━━━━━━━\u001b[0m \u001b[32m193.6/193.6 kB\u001b[0m \u001b[31m24.6 MB/s\u001b[0m eta \u001b[36m0:00:00\u001b[0m\n",
            "\u001b[?25hCollecting python-socketio (from py-tgcalls==0.6.0->-r ./requirements.txt (line 21))\n",
            "  Downloading python_socketio-5.8.0-py3-none-any.whl (56 kB)\n",
            "\u001b[2K     \u001b[90m━━━━━━━━━━━━━━━━━━━━━━━━━━━━━━━━━━━━━━━━\u001b[0m \u001b[32m57.0/57.0 kB\u001b[0m \u001b[31m8.3 MB/s\u001b[0m eta \u001b[36m0:00:00\u001b[0m\n",
            "\u001b[?25hRequirement already satisfied: attrs>=17.3.0 in /usr/local/lib/python3.10/dist-packages (from aiohttp->-r ./requirements.txt (line 10)) (23.1.0)\n",
            "Requirement already satisfied: multidict<7.0,>=4.5 in /usr/local/lib/python3.10/dist-packages (from aiohttp->-r ./requirements.txt (line 10)) (6.0.4)\n",
            "Requirement already satisfied: async-timeout<5.0,>=4.0.0a3 in /usr/local/lib/python3.10/dist-packages (from aiohttp->-r ./requirements.txt (line 10)) (4.0.2)\n",
            "Requirement already satisfied: yarl<2.0,>=1.0 in /usr/local/lib/python3.10/dist-packages (from aiohttp->-r ./requirements.txt (line 10)) (1.9.2)\n",
            "Requirement already satisfied: frozenlist>=1.1.1 in /usr/local/lib/python3.10/dist-packages (from aiohttp->-r ./requirements.txt (line 10)) (1.4.0)\n",
            "Requirement already satisfied: aiosignal>=1.1.2 in /usr/local/lib/python3.10/dist-packages (from aiohttp->-r ./requirements.txt (line 10)) (1.3.1)\n",
            "Requirement already satisfied: pyyaml in /usr/local/lib/python3.10/dist-packages (from helper->-r ./requirements.txt (line 18)) (6.0.1)\n",
            "Collecting bidict>=0.21.0 (from python-socketio->py-tgcalls==0.6.0->-r ./requirements.txt (line 21))\n",
            "  Downloading bidict-0.22.1-py3-none-any.whl (35 kB)\n",
            "Collecting python-engineio>=4.3.0 (from python-socketio->py-tgcalls==0.6.0->-r ./requirements.txt (line 21))\n",
            "  Obtaining dependency information for python-engineio>=4.3.0 from https://files.pythonhosted.org/packages/c1/b5/e555067d8dd44b5bccbd17f1ca4fdadd2e4defbb0022a296030d76293d25/python_engineio-4.5.1-py3-none-any.whl.metadata\n",
            "  Downloading python_engineio-4.5.1-py3-none-any.whl.metadata (2.2 kB)\n",
            "Downloading python_engineio-4.5.1-py3-none-any.whl (53 kB)\n",
            "\u001b[2K   \u001b[90m━━━━━━━━━━━━━━━━━━━━━━━━━━━━━━━━━━━━━━━━\u001b[0m \u001b[32m53.5/53.5 kB\u001b[0m \u001b[31m7.1 MB/s\u001b[0m eta \u001b[36m0:00:00\u001b[0m\n",
            "\u001b[?25hBuilding wheels for collected packages: bs4, websockets, async-lru, pyaes, ffmpeg, mediainfo, helper\n",
            "  Building wheel for bs4 (setup.py) ... \u001b[?25l\u001b[?25hdone\n",
            "  Created wheel for bs4: filename=bs4-0.0.1-py3-none-any.whl size=1256 sha256=15d8f5657fd4c47a49725461dd00e7c62ea45ae6a7badaa6c52a8cc8abecc890\n",
            "  Stored in directory: /root/.cache/pip/wheels/25/42/45/b773edc52acb16cd2db4cf1a0b47117e2f69bb4eb300ed0e70\n",
            "  Building wheel for websockets (setup.py) ... \u001b[?25l\u001b[?25hdone\n",
            "  Created wheel for websockets: filename=websockets-9.1-cp310-cp310-linux_x86_64.whl size=97282 sha256=12210e38dc45f93bbcc0b5bf8499b23b4d16d97102659db329c0963e7ae63227\n",
            "  Stored in directory: /root/.cache/pip/wheels/79/f7/4e/873eca27ecd6d7230caff265283a5a5112ad4cd1d945c022dd\n",
            "  Building wheel for async-lru (setup.py) ... \u001b[?25l\u001b[?25hdone\n",
            "  Created wheel for async-lru: filename=async_lru-1.0.2-py3-none-any.whl size=4701 sha256=445664f2845ceb7fbb182d25b1c82398fe8523c3a435a581e78ce7c62ab56a4f\n",
            "  Stored in directory: /root/.cache/pip/wheels/b0/88/40/e4d79bc8b59a7cfdbb4708043817069c233f9af612cf7de7d1\n",
            "  Building wheel for pyaes (setup.py) ... \u001b[?25l\u001b[?25hdone\n",
            "  Created wheel for pyaes: filename=pyaes-1.6.1-py3-none-any.whl size=26347 sha256=7c92c81ae6f331c24971d20935c51fa61298943df9ce649135e826ceef5f673e\n",
            "  Stored in directory: /root/.cache/pip/wheels/d6/84/5f/ea6aef85a93c7e1922486369874f4740a5642d261e09c59140\n",
            "  Building wheel for ffmpeg (setup.py) ... \u001b[?25l\u001b[?25hdone\n",
            "  Created wheel for ffmpeg: filename=ffmpeg-1.4-py3-none-any.whl size=6082 sha256=fdc75044f861ecee685c0725dae5247ad30abb06bc3f16ac71497f40fc7233ee\n",
            "  Stored in directory: /root/.cache/pip/wheels/8e/7a/69/cd6aeb83b126a7f04cbe7c9d929028dc52a6e7d525ff56003a\n",
            "  Building wheel for mediainfo (setup.py) ... \u001b[?25l\u001b[?25hdone\n",
            "  Created wheel for mediainfo: filename=MediaInfo-0.0.9-py3-none-any.whl size=4601 sha256=248ef92dd3d52ca676bd5f0c683b9d1ecd0d0956448634ebeae9b636b586d988\n",
            "  Stored in directory: /root/.cache/pip/wheels/b4/d9/50/e34cb8a5d1634bc0e174fec276ddc7339dcd7f2980ab77bbbc\n",
            "  Building wheel for helper (setup.py) ... \u001b[?25l\u001b[?25hdone\n",
            "  Created wheel for helper: filename=helper-2.5.0-py2.py3-none-any.whl size=19167 sha256=562f404ee484df0eed5393f81bedff5829cedbe360f0d167d24674520dc5385b\n",
            "  Stored in directory: /root/.cache/pip/wheels/13/8a/92/4a4267b8371d6e453121c917021173b4a682d691f123b9f647\n",
            "Successfully built bs4 websockets async-lru pyaes ffmpeg mediainfo helper\n",
            "Installing collected packages: pyaes, mediainfo, ffmpeg, Brotli, async-lru, websockets, urllib3, tgcrypto, soupsieve, python-engineio, python-dotenv, pyrogram, pyparsing, pycryptodome, mutagen, helper, charset-normalizer, certifi, bidict, aiofiles, yt-dlp, requests, python-socketio, pyromod, beautifulsoup4, requests-toolbelt, py-tgcalls, bs4, cloudscraper\n",
            "  Attempting uninstall: urllib3\n",
            "    Found existing installation: urllib3 1.26.16\n",
            "    Uninstalling urllib3-1.26.16:\n",
            "      Successfully uninstalled urllib3-1.26.16\n",
            "  Attempting uninstall: soupsieve\n",
            "    Found existing installation: soupsieve 2.4.1\n",
            "    Uninstalling soupsieve-2.4.1:\n",
            "      Successfully uninstalled soupsieve-2.4.1\n",
            "  Attempting uninstall: pyparsing\n",
            "    Found existing installation: pyparsing 3.1.0\n",
            "    Uninstalling pyparsing-3.1.0:\n",
            "      Successfully uninstalled pyparsing-3.1.0\n",
            "  Attempting uninstall: charset-normalizer\n",
            "    Found existing installation: charset-normalizer 2.0.12\n",
            "    Uninstalling charset-normalizer-2.0.12:\n",
            "      Successfully uninstalled charset-normalizer-2.0.12\n",
            "  Attempting uninstall: certifi\n",
            "    Found existing installation: certifi 2023.7.22\n",
            "    Uninstalling certifi-2023.7.22:\n",
            "      Successfully uninstalled certifi-2023.7.22\n",
            "  Attempting uninstall: requests\n",
            "    Found existing installation: requests 2.27.1\n",
            "    Uninstalling requests-2.27.1:\n",
            "      Successfully uninstalled requests-2.27.1\n",
            "  Attempting uninstall: beautifulsoup4\n",
            "    Found existing installation: beautifulsoup4 4.11.2\n",
            "    Uninstalling beautifulsoup4-4.11.2:\n",
            "      Successfully uninstalled beautifulsoup4-4.11.2\n",
            "\u001b[31mERROR: pip's dependency resolver does not currently take into account all the packages that are installed. This behaviour is the source of the following dependency conflicts.\n",
            "google-colab 1.0.0 requires requests==2.27.1, but you have requests 2.28.2 which is incompatible.\n",
            "yfinance 0.2.25 requires beautifulsoup4>=4.11.1, but you have beautifulsoup4 4.9.3 which is incompatible.\u001b[0m\u001b[31m\n",
            "\u001b[0mSuccessfully installed Brotli-1.0.9 aiofiles-23.1.0 async-lru-1.0.2 beautifulsoup4-4.9.3 bidict-0.22.1 bs4-0.0.1 certifi-2022.12.7 charset-normalizer-3.1.0 cloudscraper-1.2.69 ffmpeg-1.4 helper-2.5.0 mediainfo-0.0.9 mutagen-1.46.0 py-tgcalls-0.6.0 pyaes-1.6.1 pycryptodome-3.10.1 pyparsing-3.0.9 pyrogram-1.4.16 pyromod-1.5 python-dotenv-1.0.0 python-engineio-4.5.1 python-socketio-5.8.0 requests-2.28.2 requests-toolbelt-0.10.1 soupsieve-2.2.1 tgcrypto-1.2.5 urllib3-1.26.15 websockets-9.1 yt-dlp-2021.7.24\n",
            "\u001b[33mWARNING: Running pip as the 'root' user can result in broken permissions and conflicting behaviour with the system package manager. It is recommended to use a virtual environment instead: https://pip.pypa.io/warnings/venv\u001b[0m\u001b[33m\n",
            "\u001b[0m"
          ]
        },
        {
          "output_type": "display_data",
          "data": {
            "application/vnd.colab-display-data+json": {
              "pip_warning": {
                "packages": [
                  "certifi"
                ]
              }
            }
          },
          "metadata": {}
        }
      ]
    },
    {
      "cell_type": "code",
      "metadata": {
        "id": "Owqe0tPxUJbM"
      },
      "source": [],
      "execution_count": null,
      "outputs": []
    },
    {
      "cell_type": "code",
      "metadata": {
        "colab": {
          "base_uri": "https://localhost:8080/"
        },
        "id": "k2ARB3FQQyI-",
        "outputId": "b45bf7c1-9707-4383-ffc5-a6e5d9b6f310"
      },
      "source": [
        "!python3 main.py"
      ],
      "execution_count": null,
      "outputs": [
        {
          "output_type": "stream",
          "name": "stdout",
          "text": [
            "/content/all-in-work-final/main.py:69: DeprecationWarning: There is no current event loop\n",
            "  asyncio.get_event_loop().run_until_complete(main())\n",
            "pyrogram.session.auth - Start creating a new auth key on DC2\n",
            "pyrogram.connection.connection - Connecting...\n",
            "pyrogram.connection.connection - Connected! Production DC2 - IPv4 - TCPAbridgedO\n",
            "pyrogram.session.auth - Done auth key exchange: DhGenOk\n",
            "pyrogram.connection.connection - Disconnected\n",
            "pyrogram.connection.connection - Connecting...\n",
            "pyrogram.connection.connection - Connected! Production DC2 - IPv4 - TCPAbridgedO\n",
            "pyrogram.session.session - NetworkTask started\n",
            "pyrogram.session.internals.msg_id - Time synced: 2023-07-29 14:31:41.901460 UTC\n",
            "pyrogram.session.session - Session initialized: Layer 140\n",
            "pyrogram.session.session - Device: CPython 3.10.6 - Pyrogram 1.4.16\n",
            "pyrogram.session.session - System: Linux 5.15.109+ (EN)\n",
            "pyrogram.session.session - Session started\n",
            "pyrogram.session.session - PingTask started\n",
            "pyrogram.session.session - PingTask stopped\n",
            "pyrogram.connection.connection - Disconnected\n",
            "pyrogram.session.session - NetworkTask stopped\n",
            "pyrogram.session.session - Session stopped\n",
            "pyrogram.session.auth - Start creating a new auth key on DC5\n",
            "pyrogram.connection.connection - Connecting...\n",
            "pyrogram.connection.connection - Connected! Production DC5 - IPv4 - TCPAbridgedO\n",
            "pyrogram.session.auth - Done auth key exchange: DhGenOk\n",
            "pyrogram.connection.connection - Disconnected\n",
            "pyrogram.connection.connection - Connecting...\n",
            "pyrogram.connection.connection - Connected! Production DC5 - IPv4 - TCPAbridgedO\n",
            "pyrogram.session.session - NetworkTask started\n",
            "pyrogram.session.session - Session initialized: Layer 140\n",
            "pyrogram.session.session - Device: CPython 3.10.6 - Pyrogram 1.4.16\n",
            "pyrogram.session.session - System: Linux 5.15.109+ (EN)\n",
            "pyrogram.session.session - Session started\n",
            "pyrogram.session.session - PingTask started\n",
            "pyrogram.client - [StarkBot] [LOAD] MessageHandler(\"Start_msg\") in group 0 from \"plugins.__init__\"\n",
            "pyrogram.client - [StarkBot] [LOAD] MessageHandler(\"restart_handler\") in group 0 from \"plugins.__init__\"\n",
            "pyrogram.client - [StarkBot] [LOAD] MessageHandler(\"log_msg\") in group 0 from \"plugins.__init__\"\n",
            "pyrogram.client - [StarkBot] [LOAD] MessageHandler(\"classplus\") in group 0 from \"plugins.classplus\"\n",
            "pyrogram.client - [StarkBot] [LOAD] MessageHandler(\"account_login\") in group 0 from \"plugins.cp\"\n",
            "pyrogram.client - [StarkBot] [LOAD] MessageHandler(\"account_login\") in group 0 from \"plugins.cpd\"\n",
            "pyrogram.client - [StarkBot] [LOAD] MessageHandler(\"account_login\") in group 0 from \"plugins.cw\"\n",
            "pyrogram.client - [StarkBot] [LOAD] MessageHandler(\"account_login\") in group 0 from \"plugins.e1\"\n",
            "pyrogram.client - [StarkBot] [LOAD] MessageHandler(\"account_login\") in group 0 from \"plugins.exampur\"\n",
            "pyrogram.client - [StarkBot] [LOAD] MessageHandler(\"forward\") in group 0 from \"plugins.forward\"\n",
            "pyrogram.client - [StarkBot] [LOAD] MessageHandler(\"account_login\") in group 0 from \"plugins.khan\"\n",
            "pyrogram.client - [StarkBot] [LOAD] MessageHandler(\"account_login\") in group 0 from \"plugins.mgconcept\"\n",
            "pyrogram.client - [StarkBot] [LOAD] MessageHandler(\"account_login\") in group 0 from \"plugins.ocean\"\n",
            "pyrogram.client - [StarkBot] [LOAD] MessageHandler(\"account_login\") in group 0 from \"plugins.pw\"\n",
            "pyrogram.client - [StarkBot] [LOAD] MessageHandler(\"account_login\") in group 0 from \"plugins.rjvikramjeet\"\n",
            "pyrogram.client - [StarkBot] [LOAD] MessageHandler(\"account\") in group 0 from \"plugins.sam\"\n",
            "pyrogram.client - [StarkBot] [LOAD] MessageHandler(\"account_login\") in group 0 from \"plugins.txt\"\n",
            "pyrogram.client - [StarkBot] [LOAD] MessageHandler(\"account_login\") in group 0 from \"plugins.vidya\"\n",
            "pyrogram.client - [StarkBot] [LOAD] MessageHandler(\"account_login\") in group 0 from \"plugins.winners\"\n",
            "pyrogram.client - [StarkBot] Successfully loaded 19 plugins from \"plugins\"\n",
            "pyrogram.dispatcher - Started 50 HandlerTasks\n",
            "__main__ - <--- @Prakashone_bot Started (c) STARKBOT --->\n",
            "pyrogram.dispatcher - list indices must be integers or slices, not str\n",
            "Traceback (most recent call last):\n",
            "  File \"/usr/local/lib/python3.10/dist-packages/pyrogram/dispatcher.py\", line 222, in handler_worker\n",
            "    await handler.callback(self.client, *args)\n",
            "  File \"/usr/local/lib/python3.10/dist-packages/pyromod/listen/listen.py\", line 93, in resolve_listener\n",
            "    await self.user_callback(client, message, *args)\n",
            "  File \"/content/all-in-work-final/plugins/cp.py\", line 86, in account_login\n",
            "    b_data = resp.json()[\"data\"][\"totalBatches\"]\n",
            "TypeError: list indices must be integers or slices, not str\n",
            "pyrogram.session.session - NetworkTask stopped\n",
            "pyrogram.session.session - PingTask stopped\n",
            "pyrogram.connection.connection - Disconnected\n",
            "pyrogram.session.session - Session stopped\n",
            "pyrogram.connection.connection - Connecting...\n",
            "pyrogram.connection.connection - Connected! Production DC5 - IPv4 - TCPAbridgedO\n",
            "pyrogram.session.session - NetworkTask started\n",
            "pyrogram.session.session - Session initialized: Layer 140\n",
            "pyrogram.session.session - Device: CPython 3.10.6 - Pyrogram 1.4.16\n",
            "pyrogram.session.session - System: Linux 5.15.109+ (EN)\n",
            "pyrogram.session.session - Session started\n",
            "pyrogram.session.session - PingTask started\n"
          ]
        }
      ]
    }
  ]
}